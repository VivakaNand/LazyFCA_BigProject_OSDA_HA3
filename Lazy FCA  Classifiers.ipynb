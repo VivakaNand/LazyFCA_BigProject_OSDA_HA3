{
 "cells": [
  {
   "cell_type": "markdown",
   "id": "45a16059",
   "metadata": {},
   "source": [
    "# Big Project (Homework Assignemnt- 03)\n",
    "\n",
    "## Lazy FCA (Formal Concept Analysis) Classifcation."
   ]
  },
  {
   "cell_type": "markdown",
   "id": "59873891",
   "metadata": {},
   "source": [
    "### Import libraries"
   ]
  },
  {
   "cell_type": "code",
   "execution_count": 1,
   "id": "8f926b75",
   "metadata": {},
   "outputs": [],
   "source": [
    "# Import necessary libraries for data processing, visualization, and machine learning\n",
    "import pandas as pd  # For data manipulation and analysis\n",
    "import numpy as np   # For numerical operations\n",
    "import matplotlib.pyplot as plt  # For data visualization\n",
    "import seaborn as sns  # For advanced data visualization (statistical plots)\n",
    "from sklearn.impute import SimpleImputer  # For handling missing data\n",
    "from sklearn.model_selection import train_test_split  # For splitting the data into training and testing sets"
   ]
  },
  {
   "cell_type": "markdown",
   "id": "b5fc3c4e",
   "metadata": {},
   "source": [
    "### Load the dataset"
   ]
  },
  {
   "cell_type": "code",
   "execution_count": 2,
   "id": "68c116c3",
   "metadata": {},
   "outputs": [
    {
     "data": {
      "text/html": [
       "<div>\n",
       "<style scoped>\n",
       "    .dataframe tbody tr th:only-of-type {\n",
       "        vertical-align: middle;\n",
       "    }\n",
       "\n",
       "    .dataframe tbody tr th {\n",
       "        vertical-align: top;\n",
       "    }\n",
       "\n",
       "    .dataframe thead th {\n",
       "        text-align: right;\n",
       "    }\n",
       "</style>\n",
       "<table border=\"1\" class=\"dataframe\">\n",
       "  <thead>\n",
       "    <tr style=\"text-align: right;\">\n",
       "      <th></th>\n",
       "      <th>id</th>\n",
       "      <th>age</th>\n",
       "      <th>sex</th>\n",
       "      <th>dataset</th>\n",
       "      <th>cp</th>\n",
       "      <th>trestbps</th>\n",
       "      <th>chol</th>\n",
       "      <th>fbs</th>\n",
       "      <th>restecg</th>\n",
       "      <th>thalch</th>\n",
       "      <th>exang</th>\n",
       "      <th>oldpeak</th>\n",
       "      <th>slope</th>\n",
       "      <th>ca</th>\n",
       "      <th>thal</th>\n",
       "      <th>num</th>\n",
       "    </tr>\n",
       "  </thead>\n",
       "  <tbody>\n",
       "    <tr>\n",
       "      <th>0</th>\n",
       "      <td>1</td>\n",
       "      <td>63</td>\n",
       "      <td>Male</td>\n",
       "      <td>Cleveland</td>\n",
       "      <td>typical angina</td>\n",
       "      <td>145.0</td>\n",
       "      <td>233.0</td>\n",
       "      <td>True</td>\n",
       "      <td>lv hypertrophy</td>\n",
       "      <td>150.0</td>\n",
       "      <td>False</td>\n",
       "      <td>2.3</td>\n",
       "      <td>downsloping</td>\n",
       "      <td>0.0</td>\n",
       "      <td>fixed defect</td>\n",
       "      <td>0</td>\n",
       "    </tr>\n",
       "    <tr>\n",
       "      <th>1</th>\n",
       "      <td>2</td>\n",
       "      <td>67</td>\n",
       "      <td>Male</td>\n",
       "      <td>Cleveland</td>\n",
       "      <td>asymptomatic</td>\n",
       "      <td>160.0</td>\n",
       "      <td>286.0</td>\n",
       "      <td>False</td>\n",
       "      <td>lv hypertrophy</td>\n",
       "      <td>108.0</td>\n",
       "      <td>True</td>\n",
       "      <td>1.5</td>\n",
       "      <td>flat</td>\n",
       "      <td>3.0</td>\n",
       "      <td>normal</td>\n",
       "      <td>2</td>\n",
       "    </tr>\n",
       "    <tr>\n",
       "      <th>2</th>\n",
       "      <td>3</td>\n",
       "      <td>67</td>\n",
       "      <td>Male</td>\n",
       "      <td>Cleveland</td>\n",
       "      <td>asymptomatic</td>\n",
       "      <td>120.0</td>\n",
       "      <td>229.0</td>\n",
       "      <td>False</td>\n",
       "      <td>lv hypertrophy</td>\n",
       "      <td>129.0</td>\n",
       "      <td>True</td>\n",
       "      <td>2.6</td>\n",
       "      <td>flat</td>\n",
       "      <td>2.0</td>\n",
       "      <td>reversable defect</td>\n",
       "      <td>1</td>\n",
       "    </tr>\n",
       "    <tr>\n",
       "      <th>3</th>\n",
       "      <td>4</td>\n",
       "      <td>37</td>\n",
       "      <td>Male</td>\n",
       "      <td>Cleveland</td>\n",
       "      <td>non-anginal</td>\n",
       "      <td>130.0</td>\n",
       "      <td>250.0</td>\n",
       "      <td>False</td>\n",
       "      <td>normal</td>\n",
       "      <td>187.0</td>\n",
       "      <td>False</td>\n",
       "      <td>3.5</td>\n",
       "      <td>downsloping</td>\n",
       "      <td>0.0</td>\n",
       "      <td>normal</td>\n",
       "      <td>0</td>\n",
       "    </tr>\n",
       "    <tr>\n",
       "      <th>4</th>\n",
       "      <td>5</td>\n",
       "      <td>41</td>\n",
       "      <td>Female</td>\n",
       "      <td>Cleveland</td>\n",
       "      <td>atypical angina</td>\n",
       "      <td>130.0</td>\n",
       "      <td>204.0</td>\n",
       "      <td>False</td>\n",
       "      <td>lv hypertrophy</td>\n",
       "      <td>172.0</td>\n",
       "      <td>False</td>\n",
       "      <td>1.4</td>\n",
       "      <td>upsloping</td>\n",
       "      <td>0.0</td>\n",
       "      <td>normal</td>\n",
       "      <td>0</td>\n",
       "    </tr>\n",
       "  </tbody>\n",
       "</table>\n",
       "</div>"
      ],
      "text/plain": [
       "   id  age     sex    dataset               cp  trestbps   chol    fbs  \\\n",
       "0   1   63    Male  Cleveland   typical angina     145.0  233.0   True   \n",
       "1   2   67    Male  Cleveland     asymptomatic     160.0  286.0  False   \n",
       "2   3   67    Male  Cleveland     asymptomatic     120.0  229.0  False   \n",
       "3   4   37    Male  Cleveland      non-anginal     130.0  250.0  False   \n",
       "4   5   41  Female  Cleveland  atypical angina     130.0  204.0  False   \n",
       "\n",
       "          restecg  thalch  exang  oldpeak        slope   ca  \\\n",
       "0  lv hypertrophy   150.0  False      2.3  downsloping  0.0   \n",
       "1  lv hypertrophy   108.0   True      1.5         flat  3.0   \n",
       "2  lv hypertrophy   129.0   True      2.6         flat  2.0   \n",
       "3          normal   187.0  False      3.5  downsloping  0.0   \n",
       "4  lv hypertrophy   172.0  False      1.4    upsloping  0.0   \n",
       "\n",
       "                thal  num  \n",
       "0       fixed defect    0  \n",
       "1             normal    2  \n",
       "2  reversable defect    1  \n",
       "3             normal    0  \n",
       "4             normal    0  "
      ]
     },
     "execution_count": 2,
     "metadata": {},
     "output_type": "execute_result"
    }
   ],
   "source": [
    "# Load the dataset\n",
    "df = pd.read_csv('heart_disease_uci.csv')  # Load the heart disease dataset into a DataFrame\n",
    "df.head()  # Display the first few rows of the dataset to get an overview"
   ]
  },
  {
   "cell_type": "markdown",
   "id": "b1036ecd",
   "metadata": {},
   "source": [
    "## Exploratory Data Analysis"
   ]
  },
  {
   "cell_type": "markdown",
   "id": "2c7eae74",
   "metadata": {},
   "source": [
    "### Display basic information of dataset"
   ]
  },
  {
   "cell_type": "code",
   "execution_count": null,
   "id": "f20e90ec",
   "metadata": {},
   "outputs": [],
   "source": [
    "# Display basic information about the dataset (e.g., column types, non-null values)\n",
    "print(\"Dataset Information:\")\n",
    "print(df.info())"
   ]
  },
  {
   "cell_type": "markdown",
   "id": "b0ec31d6",
   "metadata": {},
   "source": [
    "#### Dataset Information\n",
    "\n",
    "The dataset contains **920 entries** with **16 columns**. Each column represents a specific feature related to heart disease diagnosis. Below is a detailed description of the dataset:\n",
    "\n",
    "#### General Information\n",
    "- **Number of Rows**: 920\n",
    "- **Number of Columns**: 16\n",
    "- **Missing Values**: Several columns (e.g., `trestbps`, `chol`, `slope`, `ca`, `thal`) have missing values, which may need imputation or handling during preprocessing.\n",
    "- **Data Types**: The dataset includes:\n",
    "  - `float64` (5 columns): Continuous numerical features.\n",
    "  - `int64` (3 columns): Integer features, including identifiers and the target variable.\n",
    "  - `object` (8 columns): Categorical features such as gender, chest pain type, and thalassemia status.\n"
   ]
  },
  {
   "cell_type": "markdown",
   "id": "10323065",
   "metadata": {},
   "source": [
    "### Display basic statistics of categorical features"
   ]
  },
  {
   "cell_type": "code",
   "execution_count": 4,
   "id": "d9173b82",
   "metadata": {},
   "outputs": [
    {
     "name": "stdout",
     "output_type": "stream",
     "text": [
      "\n",
      "Basic Statistical Description:\n",
      "               id         age    trestbps        chol      thalch     oldpeak  \\\n",
      "count  920.000000  920.000000  861.000000  890.000000  865.000000  858.000000   \n",
      "mean   460.500000   53.510870  132.132404  199.130337  137.545665    0.878788   \n",
      "std    265.725422    9.424685   19.066070  110.780810   25.926276    1.091226   \n",
      "min      1.000000   28.000000    0.000000    0.000000   60.000000   -2.600000   \n",
      "25%    230.750000   47.000000  120.000000  175.000000  120.000000    0.000000   \n",
      "50%    460.500000   54.000000  130.000000  223.000000  140.000000    0.500000   \n",
      "75%    690.250000   60.000000  140.000000  268.000000  157.000000    1.500000   \n",
      "max    920.000000   77.000000  200.000000  603.000000  202.000000    6.200000   \n",
      "\n",
      "               ca         num  \n",
      "count  309.000000  920.000000  \n",
      "mean     0.676375    0.995652  \n",
      "std      0.935653    1.142693  \n",
      "min      0.000000    0.000000  \n",
      "25%      0.000000    0.000000  \n",
      "50%      0.000000    1.000000  \n",
      "75%      1.000000    2.000000  \n",
      "max      3.000000    4.000000  \n"
     ]
    }
   ],
   "source": [
    "# Display basic statistics for numeric columns (e.g., mean, min, max, etc.)\n",
    "print(\"\\nBasic Statistical Description:\")\n",
    "print(df.describe())"
   ]
  },
  {
   "cell_type": "code",
   "execution_count": 5,
   "id": "a6e0e5ea",
   "metadata": {},
   "outputs": [],
   "source": [
    "# Drop irrelevant columns (e.g., 'id' column, if it's not needed for the analysis)\n",
    "df = df.drop(columns=['id'])"
   ]
  },
  {
   "cell_type": "markdown",
   "id": "48e768f6",
   "metadata": {},
   "source": [
    "### Feature correlation analysis"
   ]
  },
  {
   "cell_type": "code",
   "execution_count": 7,
   "id": "fc48efe3",
   "metadata": {},
   "outputs": [
    {
     "data": {
      "image/png": "[encoded data removed]",
      "text/plain": [
       "<Figure size 864x576 with 2 Axes>"
      ]
     },
     "metadata": {
      "needs_background": "light"
     },
     "output_type": "display_data"
    }
   ],
   "source": [
    "# Feature correlation analysis - Compute the correlation matrix for all features\n",
    "correlation_matrix = df.corr()  # Calculate pairwise correlation of features\n",
    "plt.figure(figsize=(12, 8))  # Set the figure size for the plot\n",
    "sns.heatmap(correlation_matrix, annot=True, cmap='coolwarm')  # Visualize correlation matrix using heatmap\n",
    "plt.title(\"Feature Correlation Matrix\")  # Set title for the plot\n",
    "plt.show()  # Display the plot"
   ]
  },
  {
   "cell_type": "markdown",
   "id": "d82cce05",
   "metadata": {},
   "source": [
    "### Analysis from this correlation plot\n",
    "From this correlation plot a significant correlation exists between \"num\" (heart disease diagnosis) and \"ca\" (number of major vessels) and \"oldpeak\" (ST depression caused by exercise), suggesting an association between increased values in these features and a higher risk of heart disease.  Conversely, \"num\" exhibits a negative correlation with \"thalch\" (maximum heart rate achieved), indicating that individuals with higher exercise capacity may have a lower risk of heart disease. "
   ]
  },
  {
   "cell_type": "markdown",
   "id": "11caec27",
   "metadata": {},
   "source": [
    "### Relationship between features and the target variable"
   ]
  },
  {
   "cell_type": "code",
   "execution_count": 8,
   "id": "a3d9aae7",
   "metadata": {},
   "outputs": [
    {
     "data": {
      "image/png": "[encoded data removed]",
      "text/plain": [
       "<Figure size 720x360 with 1 Axes>"
      ]
     },
     "metadata": {
      "needs_background": "light"
     },
     "output_type": "display_data"
    }
   ],
   "source": [
    "# Visualize the relationship between features and the target variable 'num'\n",
    "# Plotting the distribution of age based on heart disease presence\n",
    "plt.figure(figsize=(10, 5))\n",
    "sns.histplot(data=df, x='age', hue='num', kde=True, palette='viridis')  # Plot age distribution with heart disease classes\n",
    "plt.title(\"Age Distribution by Heart Disease Presence\")  # Set plot title\n",
    "plt.xlabel(\"Age\")  # Label the x-axis\n",
    "plt.ylabel(\"Count\")  # Label the y-axis\n",
    "plt.show()  # Display the plot"
   ]
  },
  {
   "cell_type": "markdown",
   "id": "ccb89072",
   "metadata": {},
   "source": [
    "### Distribution analysis of heart disease based on age\n",
    "\n",
    "In the plot, there is a clear association between age and the presence of heart disease. As age increases, the likelihood of heart disease also increases. Individuals without heart disease are more evenly distributed across the age range, while those with heart disease tend to live longer. Accordingly, heart disease risk increases with age. "
   ]
  },
  {
   "cell_type": "code",
   "execution_count": 9,
   "id": "4d0ad142",
   "metadata": {},
   "outputs": [
    {
     "data": {
      "image/png": "[encoded data removed]",
      "text/plain": [
       "<Figure size 576x360 with 1 Axes>"
      ]
     },
     "metadata": {
      "needs_background": "light"
     },
     "output_type": "display_data"
    }
   ],
   "source": [
    "# Box plot to examine the relationship between chest pain type ('cp') and age, with respect to heart disease presence\n",
    "plt.figure(figsize=(8, 5))\n",
    "sns.boxplot(data=df, x='cp', y='age', hue='num', palette='Set2')  # Box plot for chest pain type vs age\n",
    "plt.title(\"Chest Pain Type vs Age by Heart Disease Presence\")  # Set plot title\n",
    "plt.xlabel(\"Chest Pain Type\")  # Label the x-axis\n",
    "plt.ylabel(\"Age\")  # Label the y-axis\n",
    "plt.show()  # Display the plot"
   ]
  },
  {
   "cell_type": "markdown",
   "id": "42ee51c2",
   "metadata": {},
   "source": [
    "### Box plot analysis of the relationship between (Chest pain) vs (Age), vs (Heart Disease)\n",
    "\n",
    "The graph shows that people with chest pain, especially typical angina, tend to be older, whether they have heart disease or not. It also shows that older people are more likely to have heart disease, regardless of their chest pain type. This suggests that age is a major factor in heart disease, especially when combined with certain types of chest pain."
   ]
  },
  {
   "cell_type": "code",
   "execution_count": 10,
   "id": "d84ead07",
   "metadata": {},
   "outputs": [
    {
     "name": "stdout",
     "output_type": "stream",
     "text": [
      "\n",
      "Missing Values Count:\n",
      "age           0\n",
      "sex           0\n",
      "dataset       0\n",
      "cp            0\n",
      "trestbps     59\n",
      "chol         30\n",
      "fbs          90\n",
      "restecg       2\n",
      "thalch       55\n",
      "exang        55\n",
      "oldpeak      62\n",
      "slope       309\n",
      "ca          611\n",
      "thal        486\n",
      "num           0\n",
      "dtype: int64\n"
     ]
    }
   ],
   "source": [
    "# Check for missing values in the features (X)\n",
    "print(\"\\nMissing Values Count:\")\n",
    "print(df.isnull().sum())"
   ]
  },
  {
   "cell_type": "markdown",
   "id": "882f9a19",
   "metadata": {},
   "source": [
    "### Missing Values\n",
    "\n",
    "Some values are missing, like blood pressure, cholesterol levels, and heart rate measurements. We need to fix this before we can fully analyze the data and draw reliable conclusions about heart disease."
   ]
  },
  {
   "cell_type": "markdown",
   "id": "c87913e8",
   "metadata": {},
   "source": [
    "### Identify categorical and continuous features in the dataset"
   ]
  },
  {
   "cell_type": "code",
   "execution_count": 11,
   "id": "2d7b68cb",
   "metadata": {},
   "outputs": [],
   "source": [
    "# Identify categorical and continuous features in the dataset\n",
    "categorical_features = df.select_dtypes(include=['object']).columns  # Categorical features are of type 'object'\n",
    "continuous_features = df.select_dtypes(include=['number']).columns  # Continuous features are of numeric type"
   ]
  },
  {
   "cell_type": "code",
   "execution_count": 12,
   "id": "34671ad7",
   "metadata": {},
   "outputs": [
    {
     "name": "stdout",
     "output_type": "stream",
     "text": [
      "Value counts for sex:\n",
      "Male      726\n",
      "Female    194\n",
      "Name: sex, dtype: int64\n",
      "\n",
      "Value counts for dataset:\n",
      "Cleveland        304\n",
      "Hungary          293\n",
      "VA Long Beach    200\n",
      "Switzerland      123\n",
      "Name: dataset, dtype: int64\n",
      "\n",
      "Value counts for cp:\n",
      "asymptomatic       496\n",
      "non-anginal        204\n",
      "atypical angina    174\n",
      "typical angina      46\n",
      "Name: cp, dtype: int64\n",
      "\n",
      "Value counts for fbs:\n",
      "False    692\n",
      "True     138\n",
      "Name: fbs, dtype: int64\n",
      "\n",
      "Value counts for restecg:\n",
      "normal              551\n",
      "lv hypertrophy      188\n",
      "st-t abnormality    179\n",
      "Name: restecg, dtype: int64\n",
      "\n",
      "Value counts for exang:\n",
      "False    528\n",
      "True     337\n",
      "Name: exang, dtype: int64\n",
      "\n",
      "Value counts for slope:\n",
      "flat           345\n",
      "upsloping      203\n",
      "downsloping     63\n",
      "Name: slope, dtype: int64\n",
      "\n",
      "Value counts for thal:\n",
      "normal               196\n",
      "reversable defect    192\n",
      "fixed defect          46\n",
      "Name: thal, dtype: int64\n",
      "\n"
     ]
    }
   ],
   "source": [
    "# Display value counts for each categorical feature (to understand the distribution of categories)\n",
    "for col in categorical_features:\n",
    "    print(f\"Value counts for {col}:\\n{df[col].value_counts()}\\n\")"
   ]
  },
  {
   "cell_type": "markdown",
   "id": "fe6a6127",
   "metadata": {},
   "source": [
    "### Handling missing values"
   ]
  },
  {
   "cell_type": "code",
   "execution_count": 13,
   "id": "11390b54",
   "metadata": {},
   "outputs": [],
   "source": [
    "# Handle missing data\n",
    "# For categorical features, use the most frequent value to fill missing data\n",
    "cat_imputer = SimpleImputer(strategy='most_frequent')\n",
    "df[categorical_features] = cat_imputer.fit_transform(df[categorical_features])"
   ]
  },
  {
   "cell_type": "code",
   "execution_count": 14,
   "id": "dedddce1",
   "metadata": {},
   "outputs": [
    {
     "name": "stdout",
     "output_type": "stream",
     "text": [
      "Missing values after imputation: \n"
     ]
    },
    {
     "data": {
      "text/plain": [
       "age         0\n",
       "sex         0\n",
       "dataset     0\n",
       "cp          0\n",
       "trestbps    0\n",
       "chol        0\n",
       "fbs         0\n",
       "restecg     0\n",
       "thalch      0\n",
       "exang       0\n",
       "oldpeak     0\n",
       "slope       0\n",
       "ca          0\n",
       "thal        0\n",
       "num         0\n",
       "dtype: int64"
      ]
     },
     "execution_count": 14,
     "metadata": {},
     "output_type": "execute_result"
    }
   ],
   "source": [
    "# For continuous features, use the mean value to fill missing data\n",
    "cont_imputer = SimpleImputer(strategy='mean')\n",
    "df[continuous_features] = cont_imputer.fit_transform(df[continuous_features])\n",
    "\n",
    "# Confirm that missing values have been imputed\n",
    "print(\"Missing values after imputation: \")\n",
    "df.isnull().sum()"
   ]
  },
  {
   "cell_type": "markdown",
   "id": "9ef6ebc6",
   "metadata": {},
   "source": [
    "## Feature Binarization for Heart Disease Prediction Dataset"
   ]
  },
  {
   "cell_type": "markdown",
   "id": "183548fd",
   "metadata": {},
   "source": [
    "### Initialize an empty DataFrame"
   ]
  },
  {
   "cell_type": "code",
   "execution_count": 15,
   "id": "4607275c",
   "metadata": {},
   "outputs": [],
   "source": [
    "# Initialize an empty DataFrame to store the binarized features\n",
    "df_binarized = pd.DataFrame(index=df.index)"
   ]
  },
  {
   "cell_type": "markdown",
   "id": "c4183003",
   "metadata": {},
   "source": [
    "### 1. Age (age)\n",
    "\n",
    "**Binarization:**\n",
    "- **Thresholds:** `<40, 40-60, 60-80, ≥80`.\n",
    "- **Categories:**\n",
    "  - `age_le_40`: Age ≤ 40.\n",
    "  - `age_40_to_60`: Age in (40, 60].\n",
    "  - `age_60_to_80`: Age in (60, 80].\n",
    "  - `age_ge_80`: Age ≥ 80.\n",
    "\n",
    "**Reason:**  \n",
    "These thresholds correspond to common groupings used in medical studies to analyze age-related health risks (e.g., young adults, middle-aged, elderly)."
   ]
  },
  {
   "cell_type": "code",
   "execution_count": 16,
   "id": "de331dab",
   "metadata": {},
   "outputs": [],
   "source": [
    "# 1. Binarizing 'age' with thresholds\n",
    "min_age = df['age'].min()\n",
    "max_age = df['age'].max()\n",
    "age_thresholds = [min_age, 20, 40, 60, max_age]\n",
    "for threshold in age_thresholds:\n",
    "    df_binarized[f'age_le_{threshold}'] = df['age'] <= threshold\n",
    "    df_binarized[f'age_ge_{threshold}'] = df['age'] >= threshold"
   ]
  },
  {
   "cell_type": "markdown",
   "id": "966b8a5c",
   "metadata": {},
   "source": [
    "### 2. Sex (sex)\n",
    "\n",
    "**Binarization:**\n",
    "- `male`: Sex = 1 (male).\n",
    "- `female`: Sex = 0 (female).\n",
    "\n",
    "**Reason:**  \n",
    "This binary feature directly represents male or female. No additional binarization was necessary."
   ]
  },
  {
   "cell_type": "code",
   "execution_count": 17,
   "id": "dab5f02e",
   "metadata": {},
   "outputs": [],
   "source": [
    "# 2. Binarizing 'sex' (1 for male, 0 for female)\n",
    "df_binarized['sex_male'] = df['sex'] == 'male'\n",
    "df_binarized['sex_female'] = df['sex'] == 'female'"
   ]
  },
  {
   "cell_type": "markdown",
   "id": "69d25dff",
   "metadata": {},
   "source": [
    "### 3. Dataset Identifier (dataset)\n",
    "\n",
    "**Binarization:**\n",
    "- `dataset_x`: Binary flags for each dataset (e.g., Dataset 1, 2, etc.).\n",
    "- Cleveland       \n",
    "- Hungary          \n",
    "- VA Long Beach    \n",
    "- Switzerland     \n",
    "\n",
    "**Reason:**  \n",
    "The dataset field likely indicates the source of the data or study groups. Binarizing it allows separating and comparing different subsets of the dataset.\n"
   ]
  },
  {
   "cell_type": "code",
   "execution_count": 18,
   "id": "bee70c36",
   "metadata": {},
   "outputs": [],
   "source": [
    "# 3. Binarizing 'dataset' feature (Dataset Identifier Type)\n",
    "df_binarized['data_Cleveland'] = df['dataset'] == 'Cleveland'\n",
    "df_binarized['data_Hungary'] = df['dataset'] == 'Hungary'\n",
    "df_binarized['data_VA_Long_Beach'] = df['dataset'] == 'VA Long Beach'\n",
    "df_binarized['data_Switzerland'] = df['dataset'] == 'Switzerland'"
   ]
  },
  {
   "cell_type": "markdown",
   "id": "c03a188c",
   "metadata": {},
   "source": [
    "### 4. Chest Pain Type (cp)\n",
    "\n",
    "**Binarization:**\n",
    "- `cp_1`: Typical angina.\n",
    "- `cp_2`: Atypical angina.\n",
    "- `cp_3`: Non-anginal pain.\n",
    "- `cp_4`: Asymptomatic.\n",
    "\n",
    "**Reason:**  \n",
    "Chest pain types are categorical with ordinal levels, so binary indicators for each category are appropriate to allow the classifier to distinguish specific types."
   ]
  },
  {
   "cell_type": "code",
   "execution_count": 19,
   "id": "a0514230",
   "metadata": {},
   "outputs": [],
   "source": [
    "# 4. Binarizing 'cp' (Chest Pain Type)\n",
    "df_binarized['cp_typical_angina'] = df['cp'] == 'typical angina'\n",
    "df_binarized['cp_atypical_angina'] = df['cp'] == 'atypical angina'\n",
    "df_binarized['cp_non_anginal'] = df['cp'] == 'non-anginal'\n",
    "df_binarized['cp_asymptomatic'] = df['cp'] == 'asymptomatic'"
   ]
  },
  {
   "cell_type": "markdown",
   "id": "8a6698e9",
   "metadata": {},
   "source": [
    "\n",
    "\n",
    "## 5. Resting Blood Pressure (trestbps)\n",
    "\n",
    "**Binarization:**\n",
    "- **Thresholds:** `<120, 120-139, 140-159, ≥160`.\n",
    "- **Categories:**\n",
    "  - `trestbps_le_120`: BP ≤ 120.\n",
    "  - `trestbps_120_to_139`: BP in (120, 139].\n",
    "  - `trestbps_140_to_159`: BP in (140, 159].\n",
    "  - `trestbps_ge_160`: BP ≥ 160.\n",
    "\n",
    "**Reason:**  \n",
    "These thresholds align with hypertension stages (normal, pre-hypertension, hypertension stages 1 and 2)."
   ]
  },
  {
   "cell_type": "code",
   "execution_count": 20,
   "id": "edcc4538",
   "metadata": {},
   "outputs": [],
   "source": [
    "# 5. Binarizing 'trestbps' (Resting Blood Pressure)\n",
    "min_trestbps = df['trestbps'].min()\n",
    "max_trestbps = df['trestbps'].max()\n",
    "trestbps_thresholds = [min_trestbps, 120, 140, 160, max_trestbps]\n",
    "for threshold in trestbps_thresholds:\n",
    "    df_binarized[f'trestbps_le_{threshold}'] = df['trestbps'] <= threshold\n",
    "    df_binarized[f'trestbps_ge_{threshold}'] = df['trestbps'] >= threshold"
   ]
  },
  {
   "cell_type": "markdown",
   "id": "c68dc025",
   "metadata": {},
   "source": [
    "## 6. Cholesterol (chol)\n",
    "\n",
    "**Binarization:**\n",
    "- **Thresholds:** `<200, 200-239, ≥240`.\n",
    "- **Categories:**\n",
    "  - `chol_le_200`: Cholesterol ≤ 200 (desirable).\n",
    "  - `chol_200_to_239`: Cholesterol in (200, 239] (borderline high).\n",
    "  - `chol_ge_240`: Cholesterol ≥ 240 (high).\n",
    "\n",
    "**Reason:**  \n",
    "These thresholds are clinically defined ranges for cholesterol levels."
   ]
  },
  {
   "cell_type": "code",
   "execution_count": 21,
   "id": "c8ad6e5f",
   "metadata": {},
   "outputs": [],
   "source": [
    "# 6. Binarizing 'chol' (Serum Cholesterol)\n",
    "min_chol = df['chol'].min()\n",
    "max_chol = df['chol'].max()\n",
    "chol_thresholds = [min_chol, 200, 240, 280, max_chol]\n",
    "for threshold in chol_thresholds:\n",
    "    df_binarized[f'chol_le_{threshold}'] = df['chol'] <= threshold\n",
    "    df_binarized[f'chol_ge_{threshold}'] = df['chol'] >= threshold"
   ]
  },
  {
   "cell_type": "markdown",
   "id": "93c36948",
   "metadata": {},
   "source": [
    "### 7. Fasting Blood Sugar (fbs)\n",
    "\n",
    "**Binarization:**\n",
    "- `fbs_high`: FBS > 120.\n",
    "- `fbs_normal`: FBS ≤ 120.\n",
    "\n",
    "**Reason:**  \n",
    "The clinical cutoff of 120 mg/dL separates normal and abnormal fasting blood sugar levels."
   ]
  },
  {
   "cell_type": "code",
   "execution_count": 22,
   "id": "87e39fd7",
   "metadata": {},
   "outputs": [],
   "source": [
    "# 7. Binarizing 'fbs' (Fasting Blood Sugar)\n",
    "df_binarized['fbs'] = df['fbs'] == 1"
   ]
  },
  {
   "cell_type": "markdown",
   "id": "7c748280",
   "metadata": {},
   "source": [
    "### 8. Resting Electrocardiographic Results (restecg)\n",
    "\n",
    "**Binarization:**\n",
    "- `restecg_0`: Normal ECG.\n",
    "- `restecg_1`: ST-T wave abnormality.\n",
    "- `restecg_2`: Probable or definite left ventricular hypertrophy.\n",
    "\n",
    "**Reason:**  \n",
    "The ordinal nature of `restecg` justifies binary flags for each ECG state.\n"
   ]
  },
  {
   "cell_type": "code",
   "execution_count": 23,
   "id": "0f5f7008",
   "metadata": {},
   "outputs": [],
   "source": [
    "# 8. Binarizing 'restecg' (Resting ECG results)\n",
    "df_binarized['restecg_normal'] = df['restecg'] == 'normal'\n",
    "df_binarized['restecg_stt_abnormality'] = df['restecg'] == 'stt abnormality'\n",
    "df_binarized['restecg_lv_hypertrophy'] = df['restecg'] == 'lv hypertrophy'"
   ]
  },
  {
   "cell_type": "markdown",
   "id": "2cfbb925",
   "metadata": {},
   "source": [
    "### 9. Maximum Heart Rate Achieved (thalch)\n",
    "\n",
    "**Binarization:**\n",
    "- **Thresholds:** `<100, 100-140, 140-180, ≥180`.\n",
    "- **Categories:**\n",
    "  - `thalch_le_100`: Heart rate ≤ 100.\n",
    "  - `thalch_100_to_140`: Heart rate in (100, 140].\n",
    "  - `thalch_140_to_180`: Heart rate in (140, 180].\n",
    "  - `thalch_ge_180`: Heart rate ≥ 180.\n",
    "\n",
    "**Reason:**  \n",
    "These ranges help capture heart performance under stress and correlate with health risks."
   ]
  },
  {
   "cell_type": "code",
   "execution_count": 24,
   "id": "9d85f535",
   "metadata": {},
   "outputs": [],
   "source": [
    "# 9. Binarizing 'thalach' (Maximum Heart Rate Achieved)\n",
    "min_thalach = df['thalch'].min()\n",
    "max_thalach = df['thalch'].max()\n",
    "thalach_thresholds = [min_thalach, 100, 140, 180, max_thalach]\n",
    "for threshold in thalach_thresholds:\n",
    "    df_binarized[f'thalch_le_{threshold}'] = df['thalch'] <= threshold\n",
    "    df_binarized[f'thalch_ge_{threshold}'] = df['thalch'] >= threshold"
   ]
  },
  {
   "cell_type": "markdown",
   "id": "01beca9b",
   "metadata": {},
   "source": [
    "### 10. Exercise-Induced Angina (exang)\n",
    "\n",
    "**Binarization:**\n",
    "- `exang_yes`: Angina during exercise (1).\n",
    "- `exang_no`: No angina during exercise (0).\n",
    "\n",
    "**Reason:**  \n",
    "Exercise-induced angina is a binary indicator.\n"
   ]
  },
  {
   "cell_type": "code",
   "execution_count": 25,
   "id": "40a8a477",
   "metadata": {},
   "outputs": [],
   "source": [
    "# 10. Binarizing 'exang' (Exercise Induced Angina)\n",
    "df_binarized['exang'] = df['exang'] == 1"
   ]
  },
  {
   "cell_type": "markdown",
   "id": "053d95bd",
   "metadata": {},
   "source": [
    "### 11. ST Depression Induced by Exercise (oldpeak)\n",
    "\n",
    "**Binarization:**\n",
    "- **Thresholds:** `<1, 1-2, ≥2`.\n",
    "- **Categories:**\n",
    "  - `oldpeak_le_1`: Depression ≤ 1.\n",
    "  - `oldpeak_1_to_2`: Depression in (1, 2].\n",
    "  - `oldpeak_ge_2`: Depression ≥ 2.\n",
    "\n",
    "**Reason:**  \n",
    "These thresholds reflect different levels of risk associated with ST depression."
   ]
  },
  {
   "cell_type": "code",
   "execution_count": 26,
   "id": "49f43fa0",
   "metadata": {},
   "outputs": [],
   "source": [
    "# 11. Binarizing 'oldpeak' (ST Depression Induced by Exercise)\n",
    "min_oldpeak = df['oldpeak'].min()\n",
    "max_oldpeak = df['oldpeak'].max()\n",
    "oldpeak_thresholds = [min_oldpeak, 1, 2, 3, max_oldpeak]\n",
    "for threshold in oldpeak_thresholds:\n",
    "    df_binarized[f'oldpeak_le_{threshold}'] = df['oldpeak'] <= threshold\n",
    "    df_binarized[f'oldpeak_ge_{threshold}'] = df['oldpeak'] >= threshold"
   ]
  },
  {
   "cell_type": "markdown",
   "id": "96da1ce5",
   "metadata": {},
   "source": [
    "### 12. Slope of the Peak Exercise ST Segment (slope)\n",
    "\n",
    "**Binarization:**\n",
    "- `slope_1`: Upsloping.\n",
    "- `slope_2`: Flat.\n",
    "- `slope_3`: Downsloping.\n",
    "\n",
    "**Reason:**  \n",
    "The slope has categorical values indicating different cardiac conditions."
   ]
  },
  {
   "cell_type": "code",
   "execution_count": 27,
   "id": "7d2f2002",
   "metadata": {},
   "outputs": [],
   "source": [
    "# 12. Binarizing 'slope' of the Peak Exercise ST Segment\n",
    "df_binarized['slope_flat'] = df['slope'] == 'flat'\n",
    "df_binarized['slope_upsloping'] = df['slope'] == 'upsloping'\n",
    "df_binarized['slope_downsloping'] = df['slope'] == 'downsloping'"
   ]
  },
  {
   "cell_type": "markdown",
   "id": "078368a5",
   "metadata": {},
   "source": [
    "### 13. Number of Major Vessels Colored by Fluoroscopy (ca)\n",
    "\n",
    "**Binarization:**\n",
    "- **Categories for each value:**\n",
    "  - `ca_0`: No major vessels.\n",
    "  - `ca_1`: 1 major vessel.\n",
    "  - `ca_2`: 2 major vessels.\n",
    "  - `ca_3`: 3 major vessels.\n",
    "\n",
    "**Reason:**  \n",
    "The number of vessels ranges from 0 to 3, making it suitable for binary flags for each count."
   ]
  },
  {
   "cell_type": "code",
   "execution_count": 28,
   "id": "51f34a38",
   "metadata": {},
   "outputs": [],
   "source": [
    "# 13. Binarizing 'ca' (Number of Major Vessels)\n",
    "for i in range(4):  # Assuming 'ca' ranges from 0 to 3\n",
    "    df_binarized[f'ca_{i}'] = df['ca'] == i"
   ]
  },
  {
   "cell_type": "markdown",
   "id": "53fe6b99",
   "metadata": {},
   "source": [
    "### 14. Thalassemia Status (thal)\n",
    "\n",
    "**Binarization:**\n",
    "- `thal_normal`: Normal.\n",
    "- `thal_fixed_defect`: Fixed defect.\n",
    "- `thal_reversible_defect`: Reversible defect.\n",
    "\n",
    "**Reason:**  \n",
    "The `thal` feature is ordinal and corresponds to different medical conditions, so binary indicators for each state were used.\n",
    "\n"
   ]
  },
  {
   "cell_type": "code",
   "execution_count": 29,
   "id": "6dc3e0ec",
   "metadata": {},
   "outputs": [],
   "source": [
    "# 14. Binarizing 'thal' (Thalassemia)\n",
    "df_binarized['thal_normal'] = df['thal'] == 'normal'\n",
    "df_binarized['thal_fixed_defect'] = df['thal'] == 'fixed defect'\n",
    "df_binarized['thal_reversible_defect'] = df['thal'] == 'reversible defect'"
   ]
  },
  {
   "cell_type": "markdown",
   "id": "b5a72a97",
   "metadata": {},
   "source": [
    "### 15. Target Variable: Presence of Heart Disease (num)\n",
    "\n",
    "**Binarization:**\n",
    "- `num_1`: Heart disease present (1).\n",
    "- `num_0`: No heart disease (0).\n",
    "\n",
    "**Reason:**  \n",
    "The target variable is binary, indicating the presence or absence of heart disease."
   ]
  },
  {
   "cell_type": "code",
   "execution_count": 30,
   "id": "60e33ec8",
   "metadata": {},
   "outputs": [],
   "source": [
    "# 15. Convert the target variable ('num') to a binary format (1 for presence, 0 for absence of heart disease)\n",
    "df_binarized['num'] = df['num'].apply(lambda x: 1 if x > 0 else 0)"
   ]
  },
  {
   "cell_type": "code",
   "execution_count": 34,
   "id": "ac1952e4",
   "metadata": {},
   "outputs": [],
   "source": [
    "# Convert True/False to 1/0\n",
    "df_binarized = df_binarized.applymap(lambda x: 1 if x is True else (0 if x is False else x))"
   ]
  },
  {
   "cell_type": "code",
   "execution_count": 35,
   "id": "a5ed5387",
   "metadata": {},
   "outputs": [
    {
     "data": {
      "text/html": [
       "<div>\n",
       "<style scoped>\n",
       "    .dataframe tbody tr th:only-of-type {\n",
       "        vertical-align: middle;\n",
       "    }\n",
       "\n",
       "    .dataframe tbody tr th {\n",
       "        vertical-align: top;\n",
       "    }\n",
       "\n",
       "    .dataframe thead th {\n",
       "        text-align: right;\n",
       "    }\n",
       "</style>\n",
       "<table border=\"1\" class=\"dataframe\">\n",
       "  <thead>\n",
       "    <tr style=\"text-align: right;\">\n",
       "      <th></th>\n",
       "      <th>age_le_28.0</th>\n",
       "      <th>age_ge_28.0</th>\n",
       "      <th>age_le_20</th>\n",
       "      <th>age_ge_20</th>\n",
       "      <th>age_le_40</th>\n",
       "      <th>age_ge_40</th>\n",
       "      <th>age_le_60</th>\n",
       "      <th>age_ge_60</th>\n",
       "      <th>age_le_77.0</th>\n",
       "      <th>age_ge_77.0</th>\n",
       "      <th>...</th>\n",
       "      <th>slope_upsloping</th>\n",
       "      <th>slope_downsloping</th>\n",
       "      <th>ca_0</th>\n",
       "      <th>ca_1</th>\n",
       "      <th>ca_2</th>\n",
       "      <th>ca_3</th>\n",
       "      <th>thal_normal</th>\n",
       "      <th>thal_fixed_defect</th>\n",
       "      <th>thal_reversible_defect</th>\n",
       "      <th>num</th>\n",
       "    </tr>\n",
       "  </thead>\n",
       "  <tbody>\n",
       "    <tr>\n",
       "      <th>0</th>\n",
       "      <td>0</td>\n",
       "      <td>1</td>\n",
       "      <td>0</td>\n",
       "      <td>1</td>\n",
       "      <td>0</td>\n",
       "      <td>1</td>\n",
       "      <td>0</td>\n",
       "      <td>1</td>\n",
       "      <td>1</td>\n",
       "      <td>0</td>\n",
       "      <td>...</td>\n",
       "      <td>0</td>\n",
       "      <td>1</td>\n",
       "      <td>1</td>\n",
       "      <td>0</td>\n",
       "      <td>0</td>\n",
       "      <td>0</td>\n",
       "      <td>0</td>\n",
       "      <td>1</td>\n",
       "      <td>0</td>\n",
       "      <td>0</td>\n",
       "    </tr>\n",
       "    <tr>\n",
       "      <th>1</th>\n",
       "      <td>0</td>\n",
       "      <td>1</td>\n",
       "      <td>0</td>\n",
       "      <td>1</td>\n",
       "      <td>0</td>\n",
       "      <td>1</td>\n",
       "      <td>0</td>\n",
       "      <td>1</td>\n",
       "      <td>1</td>\n",
       "      <td>0</td>\n",
       "      <td>...</td>\n",
       "      <td>0</td>\n",
       "      <td>0</td>\n",
       "      <td>0</td>\n",
       "      <td>0</td>\n",
       "      <td>0</td>\n",
       "      <td>1</td>\n",
       "      <td>1</td>\n",
       "      <td>0</td>\n",
       "      <td>0</td>\n",
       "      <td>1</td>\n",
       "    </tr>\n",
       "    <tr>\n",
       "      <th>2</th>\n",
       "      <td>0</td>\n",
       "      <td>1</td>\n",
       "      <td>0</td>\n",
       "      <td>1</td>\n",
       "      <td>0</td>\n",
       "      <td>1</td>\n",
       "      <td>0</td>\n",
       "      <td>1</td>\n",
       "      <td>1</td>\n",
       "      <td>0</td>\n",
       "      <td>...</td>\n",
       "      <td>0</td>\n",
       "      <td>0</td>\n",
       "      <td>0</td>\n",
       "      <td>0</td>\n",
       "      <td>1</td>\n",
       "      <td>0</td>\n",
       "      <td>0</td>\n",
       "      <td>0</td>\n",
       "      <td>0</td>\n",
       "      <td>1</td>\n",
       "    </tr>\n",
       "    <tr>\n",
       "      <th>3</th>\n",
       "      <td>0</td>\n",
       "      <td>1</td>\n",
       "      <td>0</td>\n",
       "      <td>1</td>\n",
       "      <td>1</td>\n",
       "      <td>0</td>\n",
       "      <td>1</td>\n",
       "      <td>0</td>\n",
       "      <td>1</td>\n",
       "      <td>0</td>\n",
       "      <td>...</td>\n",
       "      <td>0</td>\n",
       "      <td>1</td>\n",
       "      <td>1</td>\n",
       "      <td>0</td>\n",
       "      <td>0</td>\n",
       "      <td>0</td>\n",
       "      <td>1</td>\n",
       "      <td>0</td>\n",
       "      <td>0</td>\n",
       "      <td>0</td>\n",
       "    </tr>\n",
       "    <tr>\n",
       "      <th>4</th>\n",
       "      <td>0</td>\n",
       "      <td>1</td>\n",
       "      <td>0</td>\n",
       "      <td>1</td>\n",
       "      <td>0</td>\n",
       "      <td>1</td>\n",
       "      <td>1</td>\n",
       "      <td>0</td>\n",
       "      <td>1</td>\n",
       "      <td>0</td>\n",
       "      <td>...</td>\n",
       "      <td>1</td>\n",
       "      <td>0</td>\n",
       "      <td>1</td>\n",
       "      <td>0</td>\n",
       "      <td>0</td>\n",
       "      <td>0</td>\n",
       "      <td>1</td>\n",
       "      <td>0</td>\n",
       "      <td>0</td>\n",
       "      <td>0</td>\n",
       "    </tr>\n",
       "  </tbody>\n",
       "</table>\n",
       "<p>5 rows × 76 columns</p>\n",
       "</div>"
      ],
      "text/plain": [
       "   age_le_28.0  age_ge_28.0  age_le_20  age_ge_20  age_le_40  age_ge_40  \\\n",
       "0            0            1          0          1          0          1   \n",
       "1            0            1          0          1          0          1   \n",
       "2            0            1          0          1          0          1   \n",
       "3            0            1          0          1          1          0   \n",
       "4            0            1          0          1          0          1   \n",
       "\n",
       "   age_le_60  age_ge_60  age_le_77.0  age_ge_77.0  ...  slope_upsloping  \\\n",
       "0          0          1            1            0  ...                0   \n",
       "1          0          1            1            0  ...                0   \n",
       "2          0          1            1            0  ...                0   \n",
       "3          1          0            1            0  ...                0   \n",
       "4          1          0            1            0  ...                1   \n",
       "\n",
       "   slope_downsloping  ca_0  ca_1  ca_2  ca_3  thal_normal  thal_fixed_defect  \\\n",
       "0                  1     1     0     0     0            0                  1   \n",
       "1                  0     0     0     0     1            1                  0   \n",
       "2                  0     0     0     1     0            0                  0   \n",
       "3                  1     1     0     0     0            1                  0   \n",
       "4                  0     1     0     0     0            1                  0   \n",
       "\n",
       "   thal_reversible_defect  num  \n",
       "0                       0    0  \n",
       "1                       0    1  \n",
       "2                       0    1  \n",
       "3                       0    0  \n",
       "4                       0    0  \n",
       "\n",
       "[5 rows x 76 columns]"
      ]
     },
     "execution_count": 35,
     "metadata": {},
     "output_type": "execute_result"
    }
   ],
   "source": [
    "# Display the binarized data\n",
    "df_binarized.head()"
   ]
  },
  {
   "cell_type": "code",
   "execution_count": 36,
   "id": "055cc6e9",
   "metadata": {},
   "outputs": [
    {
     "data": {
      "text/plain": [
       "(920, 76)"
      ]
     },
     "execution_count": 36,
     "metadata": {},
     "output_type": "execute_result"
    }
   ],
   "source": [
    "# Display shape of the binarized data\n",
    "df_binarized.shape"
   ]
  },
  {
   "cell_type": "code",
   "execution_count": null,
   "id": "74fb757f",
   "metadata": {},
   "outputs": [],
   "source": []
  },
  {
   "cell_type": "code",
   "execution_count": null,
   "id": "4413bf4f",
   "metadata": {},
   "outputs": [],
   "source": []
  },
  {
   "cell_type": "code",
   "execution_count": null,
   "id": "5fc18aa8",
   "metadata": {},
   "outputs": [],
   "source": [
    "from typing import List, Any\n",
    "from sklearn.metrics import confusion_matrix, accuracy_score, precision_score, recall_score, f1_score\n",
    "from sklearn.metrics import classification_report\n",
    "from sklearn.neighbors import KNeighborsClassifier\n",
    "from sklearn.naive_bayes import GaussianNB\n",
    "from sklearn.linear_model import LogisticRegression\n",
    "from sklearn.svm import SVC\n",
    "from sklearn.tree import DecisionTreeClassifier\n",
    "from sklearn.ensemble import RandomForestClassifier\n",
    "import xgboost as xgb"
   ]
  },
  {
   "cell_type": "markdown",
   "id": "dec2a962",
   "metadata": {},
   "source": [
    "### Separate the features and target variables"
   ]
  },
  {
   "cell_type": "code",
   "execution_count": 41,
   "id": "95f6a145",
   "metadata": {},
   "outputs": [],
   "source": [
    "# Separate the features (X) and target (y) variables for model training\n",
    "X = df.drop(columns='num')  # Drop the target variable 'num' from the features\n",
    "y = df['num']  # Target variable 'num' (presence of heart disease)"
   ]
  },
  {
   "cell_type": "code",
   "execution_count": 47,
   "id": "845ddfa1",
   "metadata": {},
   "outputs": [
    {
     "name": "stdout",
     "output_type": "stream",
     "text": [
      "(736, 15)\n",
      "(736,)\n",
      "(184, 15)\n",
      "(184,)\n"
     ]
    }
   ],
   "source": [
    "# Split the data into training and testing sets (80% training, 20% testing)\n",
    "X_train, X_test, y_train, y_test = train_test_split(X, y, test_size=0.2, stratify=y, random_state=42)\n",
    "print(X_train.shape)  # Display the shape of the training feature set\n",
    "print(y_train.shape)  # Display the shape of the training target set\n",
    "print(X_test.shape)   # Display the shape of the test feature set\n",
    "print(y_test.shape)   # Display the shape of the test target set"
   ]
  },
  {
   "cell_type": "code",
   "execution_count": 37,
   "id": "908379d4",
   "metadata": {},
   "outputs": [],
   "source": [
    "# Implement Lazy FCA Classifier\n",
    "class LazyFCAClassifier:\n",
    "    def __init__(self):\n",
    "        self.X_train = None\n",
    "        self.y_train = None\n",
    "\n",
    "    def fit(self, X_train: pd.DataFrame, y_train: pd.Series) -> None:\n",
    "        self.X_train = X_train\n",
    "        self.y_train = y_train\n",
    "        \n",
    "    def _get_intersection(self, sample: pd.Series, other_sample: pd.Series) -> pd.Series:\n",
    "        \"\"\"Compute intersection between two samples.\"\"\"\n",
    "        return sample & other_sample\n",
    "\n",
    "    def classify_sample(self, sample: pd.Series) -> Any:\n",
    "        # Split X_train into positive and negative class groups\n",
    "        X_pos = self.X_train[self.y_train == 1]\n",
    "        X_neg = self.X_train[self.y_train == 0]\n",
    "\n",
    "        pos_count = 0\n",
    "        neg_count = 0\n",
    "\n",
    "        # Define classifier functions to identify positive and negative classifiers\n",
    "        def is_positive_classifier(intersection):\n",
    "            return ((X_pos | ~intersection) == True).all(axis=1).sum() > 1 and \\\n",
    "                   ((X_neg | ~intersection) == True).all(axis=1).sum() == 0\n",
    "\n",
    "        def is_negative_classifier(intersection):\n",
    "            return ((X_neg | ~intersection) == True).all(axis=1).sum() > 1 and \\\n",
    "                   ((X_pos | ~intersection) == True).all(axis=1).sum() == 0\n",
    "\n",
    "        # Check positive classifiers by intersecting with each positive sample\n",
    "        for _, pos_sample in X_pos.iterrows():\n",
    "            intersection = self._get_intersection(sample, pos_sample)\n",
    "            if is_positive_classifier(intersection):\n",
    "                pos_count += 1\n",
    "\n",
    "        # Check negative classifiers by intersecting with each negative sample\n",
    "        for _, neg_sample in X_neg.iterrows():\n",
    "            intersection = self._get_intersection(sample, neg_sample)\n",
    "            if is_negative_classifier(intersection):\n",
    "                neg_count += 1\n",
    "\n",
    "        # Decision based on counts\n",
    "        if pos_count > neg_count:\n",
    "            return 1\n",
    "        elif neg_count > pos_count:\n",
    "            return 0\n",
    "        else:\n",
    "            return 1  # Default to positive if there's a tie\n",
    "\n",
    "    def predict(self, X_test: pd.DataFrame) -> List[Any]:\n",
    "        predictions = [self.classify_sample(row) for _, row in X_test.iterrows()]\n",
    "        return predictions"
   ]
  },
  {
   "cell_type": "code",
   "execution_count": 38,
   "id": "8543c449",
   "metadata": {},
   "outputs": [
    {
     "name": "stdout",
     "output_type": "stream",
     "text": [
      "Lazy FCA Classifier Performance:\n",
      "              precision    recall  f1-score   support\n",
      "\n",
      "           0       0.86      0.77      0.81        82\n",
      "           1       0.83      0.90      0.86       102\n",
      "\n",
      "    accuracy                           0.84       184\n",
      "   macro avg       0.85      0.84      0.84       184\n",
      "weighted avg       0.84      0.84      0.84       184\n",
      "\n"
     ]
    }
   ],
   "source": [
    "# Instantiate and train Lazy FCA Classifier\n",
    "lazy_fca = LazyFCAClassifier()\n",
    "lazy_fca.fit(X_binarized.loc[X_train.index], y_train)\n",
    "\n",
    "# Step 6: Calculate metrics for Lazy FCA Classifier\n",
    "y_pred_lazy_fca = lazy_fca.predict(X_binarized.loc[X_test.index])\n",
    "print(\"Lazy FCA Classifier Performance:\")\n",
    "print(classification_report(y_test, y_pred_lazy_fca))"
   ]
  },
  {
   "cell_type": "code",
   "execution_count": 43,
   "id": "d7db3e47",
   "metadata": {},
   "outputs": [
    {
     "name": "stdout",
     "output_type": "stream",
     "text": [
      "\n",
      "K Nearest Neighbor Performance:\n",
      "              precision    recall  f1-score   support\n",
      "\n",
      "           0       0.82      0.82      0.82        82\n",
      "           1       0.85      0.85      0.85       102\n",
      "\n",
      "    accuracy                           0.84       184\n",
      "   macro avg       0.84      0.84      0.84       184\n",
      "weighted avg       0.84      0.84      0.84       184\n",
      "\n",
      "\n",
      "Naive Bayes Performance:\n",
      "              precision    recall  f1-score   support\n",
      "\n",
      "           0       0.52      0.95      0.67        82\n",
      "           1       0.88      0.28      0.43       102\n",
      "\n",
      "    accuracy                           0.58       184\n",
      "   macro avg       0.70      0.62      0.55       184\n",
      "weighted avg       0.72      0.58      0.54       184\n",
      "\n",
      "\n",
      "Logistic Regression Performance:\n",
      "              precision    recall  f1-score   support\n",
      "\n",
      "           0       0.82      0.79      0.81        82\n",
      "           1       0.84      0.86      0.85       102\n",
      "\n",
      "    accuracy                           0.83       184\n",
      "   macro avg       0.83      0.83      0.83       184\n",
      "weighted avg       0.83      0.83      0.83       184\n",
      "\n",
      "\n",
      "Support Vector Machine Performance:\n",
      "              precision    recall  f1-score   support\n",
      "\n",
      "           0       0.86      0.80      0.83        82\n",
      "           1       0.85      0.89      0.87       102\n",
      "\n",
      "    accuracy                           0.85       184\n",
      "   macro avg       0.85      0.85      0.85       184\n",
      "weighted avg       0.85      0.85      0.85       184\n",
      "\n",
      "\n",
      "Decision Tree Performance:\n",
      "              precision    recall  f1-score   support\n",
      "\n",
      "           0       0.73      0.74      0.73        82\n",
      "           1       0.79      0.77      0.78       102\n",
      "\n",
      "    accuracy                           0.76       184\n",
      "   macro avg       0.76      0.76      0.76       184\n",
      "weighted avg       0.76      0.76      0.76       184\n",
      "\n",
      "\n",
      "Random Forest Performance:\n",
      "              precision    recall  f1-score   support\n",
      "\n",
      "           0       0.79      0.80      0.80        82\n",
      "           1       0.84      0.82      0.83       102\n",
      "\n",
      "    accuracy                           0.82       184\n",
      "   macro avg       0.81      0.81      0.81       184\n",
      "weighted avg       0.82      0.82      0.82       184\n",
      "\n",
      "[23:50:10] WARNING: C:\\Windows\\Temp\\abs_557yfx631l\\croots\\recipe\\xgboost-split_1659548953302\\work\\src\\learner.cc:1115: Starting in XGBoost 1.3.0, the default evaluation metric used with the objective 'binary:logistic' was changed from 'error' to 'logloss'. Explicitly set eval_metric if you'd like to restore the old behavior.\n"
     ]
    },
    {
     "name": "stderr",
     "output_type": "stream",
     "text": [
      "C:\\Users\\hp\\anaconda3\\lib\\site-packages\\xgboost\\sklearn.py:1224: UserWarning: The use of label encoder in XGBClassifier is deprecated and will be removed in a future release. To remove this warning, do the following: 1) Pass option use_label_encoder=False when constructing XGBClassifier object; and 2) Encode your labels (y) as integers starting with 0, i.e. 0, 1, 2, ..., [num_class - 1].\n",
      "  warnings.warn(label_encoder_deprecation_msg, UserWarning)\n",
      "C:\\Users\\hp\\anaconda3\\lib\\site-packages\\xgboost\\data.py:250: FutureWarning: pandas.Int64Index is deprecated and will be removed from pandas in a future version. Use pandas.Index with the appropriate dtype instead.\n",
      "  elif isinstance(data.columns, (pd.Int64Index, pd.RangeIndex)):\n"
     ]
    },
    {
     "name": "stdout",
     "output_type": "stream",
     "text": [
      "\n",
      "XGBoost Performance:\n",
      "              precision    recall  f1-score   support\n",
      "\n",
      "           0       0.81      0.83      0.82        82\n",
      "           1       0.86      0.84      0.85       102\n",
      "\n",
      "    accuracy                           0.84       184\n",
      "   macro avg       0.83      0.84      0.84       184\n",
      "weighted avg       0.84      0.84      0.84       184\n",
      "\n"
     ]
    }
   ],
   "source": [
    "# Step 7: Compare with other classifiers\n",
    "classifiers = {\n",
    "    \"K Nearest Neighbor\": KNeighborsClassifier(),\n",
    "    \"Naive Bayes\": GaussianNB(),\n",
    "    \"Logistic Regression\": LogisticRegression(max_iter=200),\n",
    "    \"Support Vector Machine\": SVC(),\n",
    "    \"Decision Tree\": DecisionTreeClassifier(),\n",
    "    \"Random Forest\": RandomForestClassifier(),\n",
    "    \"XGBoost\": xgb.XGBClassifier()\n",
    "}\n",
    "\n",
    "for name, clf in classifiers.items():\n",
    "    clf.fit(X_binarized.loc[X_train.index], y_train)\n",
    "    y_pred = clf.predict(X_binarized.loc[X_test.index])\n",
    "    print(f\"\\n{name} Performance:\")\n",
    "    print(classification_report(y_test, y_pred))"
   ]
  },
  {
   "cell_type": "code",
   "execution_count": 47,
   "id": "b3aa08b3",
   "metadata": {},
   "outputs": [
    {
     "data": {
      "image/png": "[encoded data removed]",
      "text/plain": [
       "<Figure size 720x432 with 1 Axes>"
      ]
     },
     "metadata": {
      "needs_background": "light"
     },
     "output_type": "display_data"
    }
   ],
   "source": [
    "# Visual comparison of accuracy for each classifier\n",
    "accuracies = [accuracy_score(y_test, clf.predict(X_binarized.loc[X_test.index])) for clf in classifiers.values()]\n",
    "classifier_names = list(classifiers.keys())\n",
    "\n",
    "# Predict and calculate accuracy for LazyFCAClassifier\n",
    "lazy_fca_accuracy = accuracy_score(y_test, y_pred_lazy_fca)\n",
    "\n",
    "# Append LazyFCAClassifier accuracy and name to lists\n",
    "accuracies.append(lazy_fca_accuracy)\n",
    "classifier_names.append(\"LazyFCAClassifier\")\n",
    "\n",
    "# Plot the accuracies for all classifiers including LazyFCAClassifier\n",
    "plt.figure(figsize=(10, 6))\n",
    "bars = plt.bar(classifier_names, accuracies, color='#87CEEB')  # Light Blue color for bars\n",
    "\n",
    "# Display accuracy score on top of each bar\n",
    "for bar, accuracy in zip(bars, accuracies):\n",
    "    plt.text(bar.get_x() + bar.get_width() / 2, bar.get_height() + 0.02, \n",
    "             f'{accuracy:.2f}', ha='center', va='bottom', fontsize=12, fontweight='bold')\n",
    "\n",
    "plt.xticks(rotation=45)\n",
    "plt.ylabel('Accuracy')\n",
    "plt.title('Comparison of Classifier Accuracies')\n",
    "plt.show()"
   ]
  },
  {
   "cell_type": "code",
   "execution_count": null,
   "id": "ad510d5b",
   "metadata": {},
   "outputs": [],
   "source": []
  }
 ],
 "metadata": {
  "kernelspec": {
   "display_name": "Python 3 (ipykernel)",
   "language": "python",
   "name": "python3"
  },
  "language_info": {
   "codemirror_mode": {
    "name": "ipython",
    "version": 3
   },
   "file_extension": ".py",
   "mimetype": "text/x-python",
   "name": "python",
   "nbconvert_exporter": "python",
   "pygments_lexer": "ipython3",
   "version": "3.9.12"
  }
 },
 "nbformat": 4,
 "nbformat_minor": 5
}
